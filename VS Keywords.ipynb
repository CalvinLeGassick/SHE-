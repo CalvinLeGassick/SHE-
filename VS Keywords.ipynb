{
 "cells": [
  {
   "cell_type": "markdown",
   "metadata": {},
   "source": [
    "# Set up tools, read in data"
   ]
  },
  {
   "cell_type": "code",
   "execution_count": 404,
   "metadata": {},
   "outputs": [
    {
     "data": {
      "text/html": [
       "<div>\n",
       "<style>\n",
       "    .dataframe thead tr:only-child th {\n",
       "        text-align: right;\n",
       "    }\n",
       "\n",
       "    .dataframe thead th {\n",
       "        text-align: left;\n",
       "    }\n",
       "\n",
       "    .dataframe tbody tr th {\n",
       "        vertical-align: top;\n",
       "    }\n",
       "</style>\n",
       "<table border=\"1\" class=\"dataframe\">\n",
       "  <thead>\n",
       "    <tr style=\"text-align: right;\">\n",
       "      <th></th>\n",
       "      <th>EntityID</th>\n",
       "      <th>Keywords</th>\n",
       "      <th>FullDesc</th>\n",
       "    </tr>\n",
       "  </thead>\n",
       "  <tbody>\n",
       "    <tr>\n",
       "      <th>0</th>\n",
       "      <td>53131</td>\n",
       "      <td>NaN</td>\n",
       "      <td>Developer of an application suite that helps b...</td>\n",
       "    </tr>\n",
       "    <tr>\n",
       "      <th>1</th>\n",
       "      <td>53135</td>\n",
       "      <td>NaN</td>\n",
       "      <td>Operator of the largest cable television netwo...</td>\n",
       "    </tr>\n",
       "    <tr>\n",
       "      <th>2</th>\n",
       "      <td>53138</td>\n",
       "      <td>3D, model*</td>\n",
       "      <td>Provider of 3D modeling software for a broad r...</td>\n",
       "    </tr>\n",
       "    <tr>\n",
       "      <th>3</th>\n",
       "      <td>53139</td>\n",
       "      <td>NaN</td>\n",
       "      <td>Provider of broadband access for businesses, I...</td>\n",
       "    </tr>\n",
       "    <tr>\n",
       "      <th>4</th>\n",
       "      <td>53140</td>\n",
       "      <td>NaN</td>\n",
       "      <td>Developer of enhanced server solutions to incr...</td>\n",
       "    </tr>\n",
       "  </tbody>\n",
       "</table>\n",
       "</div>"
      ],
      "text/plain": [
       "   EntityID    Keywords                                           FullDesc\n",
       "0     53131         NaN  Developer of an application suite that helps b...\n",
       "1     53135         NaN  Operator of the largest cable television netwo...\n",
       "2     53138  3D, model*  Provider of 3D modeling software for a broad r...\n",
       "3     53139         NaN  Provider of broadband access for businesses, I...\n",
       "4     53140         NaN  Developer of enhanced server solutions to incr..."
      ]
     },
     "execution_count": 404,
     "metadata": {},
     "output_type": "execute_result"
    }
   ],
   "source": [
    "import os\n",
    "import numpy as np\n",
    "import pandas as pd\n",
    "import matplotlib.pyplot as plt\n",
    "import utils\n",
    "filename = \"SandHill_VS_IDKeywordDescription.csv\"\n",
    "\n",
    "df = pd.read_csv(filename)\n",
    "df = df[[\"EntityID\", \"Keywords\", \"FullDesc\"]]\n",
    "df[:5]"
   ]
  },
  {
   "cell_type": "markdown",
   "metadata": {},
   "source": [
    "Some companies do not have kewords. Let's clean this up and see how much we lose."
   ]
  },
  {
   "cell_type": "code",
   "execution_count": 405,
   "metadata": {},
   "outputs": [
    {
     "name": "stdout",
     "output_type": "stream",
     "text": [
      "Companies with at least one keyword: 0.783054\n"
     ]
    },
    {
     "data": {
      "text/html": [
       "<div>\n",
       "<style>\n",
       "    .dataframe thead tr:only-child th {\n",
       "        text-align: right;\n",
       "    }\n",
       "\n",
       "    .dataframe thead th {\n",
       "        text-align: left;\n",
       "    }\n",
       "\n",
       "    .dataframe tbody tr th {\n",
       "        vertical-align: top;\n",
       "    }\n",
       "</style>\n",
       "<table border=\"1\" class=\"dataframe\">\n",
       "  <thead>\n",
       "    <tr style=\"text-align: right;\">\n",
       "      <th></th>\n",
       "      <th>EntityID</th>\n",
       "      <th>Keywords</th>\n",
       "      <th>FullDesc</th>\n",
       "    </tr>\n",
       "  </thead>\n",
       "  <tbody>\n",
       "    <tr>\n",
       "      <th>2</th>\n",
       "      <td>53138</td>\n",
       "      <td>3D, model*</td>\n",
       "      <td>Provider of 3D modeling software for a broad r...</td>\n",
       "    </tr>\n",
       "    <tr>\n",
       "      <th>9</th>\n",
       "      <td>53146</td>\n",
       "      <td>GPS, location</td>\n",
       "      <td>Developer of an integrated global positioning ...</td>\n",
       "    </tr>\n",
       "    <tr>\n",
       "      <th>10</th>\n",
       "      <td>53147</td>\n",
       "      <td>security</td>\n",
       "      <td>Provider of security services and products to ...</td>\n",
       "    </tr>\n",
       "    <tr>\n",
       "      <th>13</th>\n",
       "      <td>53155</td>\n",
       "      <td>baby*, diaper*, formula*, bottle*, maternity*</td>\n",
       "      <td>Provider of baby care and maternity products o...</td>\n",
       "    </tr>\n",
       "    <tr>\n",
       "      <th>15</th>\n",
       "      <td>53163</td>\n",
       "      <td>B2B, magazine*, journal*, news*, seminar*, con...</td>\n",
       "      <td>Provider of integrated information and media i...</td>\n",
       "    </tr>\n",
       "  </tbody>\n",
       "</table>\n",
       "</div>"
      ],
      "text/plain": [
       "    EntityID                                           Keywords  \\\n",
       "2      53138                                         3D, model*   \n",
       "9      53146                                      GPS, location   \n",
       "10     53147                                           security   \n",
       "13     53155      baby*, diaper*, formula*, bottle*, maternity*   \n",
       "15     53163  B2B, magazine*, journal*, news*, seminar*, con...   \n",
       "\n",
       "                                             FullDesc  \n",
       "2   Provider of 3D modeling software for a broad r...  \n",
       "9   Developer of an integrated global positioning ...  \n",
       "10  Provider of security services and products to ...  \n",
       "13  Provider of baby care and maternity products o...  \n",
       "15  Provider of integrated information and media i...  "
      ]
     },
     "execution_count": 405,
     "metadata": {},
     "output_type": "execute_result"
    }
   ],
   "source": [
    "print(\"Companies with at least one keyword: %f\" % (float(len(df.dropna())) / len(df) )  )\n",
    "df = df.dropna()\n",
    "df[:5]"
   ]
  },
  {
   "cell_type": "markdown",
   "metadata": {},
   "source": [
    "Converting keywords to lists and constructing the set of all keywords."
   ]
  },
  {
   "cell_type": "code",
   "execution_count": 426,
   "metadata": {},
   "outputs": [
    {
     "name": "stdout",
     "output_type": "stream",
     "text": [
      "\n"
     ]
    }
   ],
   "source": [
    "df[\"KeywordItems\"] = df[\"Keywords\"].str.lower().str.split(\",\").apply(lambda l: [w.strip() for w in l if len(w.strip()) != 0])\n",
    "keyword_series = df[\"KeywordItems\"]\n",
    "keywords = set()\n",
    "keyword_series.apply(lambda x: [keywords.add(w) for w in x])\n",
    "print()"
   ]
  },
  {
   "cell_type": "markdown",
   "metadata": {},
   "source": [
    "Build an index from keyword -> companies."
   ]
  },
  {
   "cell_type": "code",
   "execution_count": 425,
   "metadata": {},
   "outputs": [
    {
     "name": "stdout",
     "output_type": "stream",
     "text": [
      "Total keywords: 126271\n"
     ]
    }
   ],
   "source": [
    "keyword_to_ix, keyword_to_count = utils.build_keyword_index(df.dropna())\n",
    "print(\"Total keywords: %d\" % sum(keyword_to_count.values()))"
   ]
  },
  {
   "cell_type": "markdown",
   "metadata": {},
   "source": [
    "# Analysis: Keywords are extremely sparse."
   ]
  },
  {
   "cell_type": "code",
   "execution_count": 409,
   "metadata": {},
   "outputs": [
    {
     "name": "stdout",
     "output_type": "stream",
     "text": [
      "# Occurences of a keyword:\n",
      "Mean 4.793888\n",
      "Median 1.000000\n",
      "Variance 526.878285\n"
     ]
    }
   ],
   "source": [
    "count_items = keyword_to_count.items()\n",
    "count_keys, count_values = zip(*count_items)\n",
    "print(\"# Occurences of a keyword:\")\n",
    "print(\"Mean %f\" % np.mean(count_values))\n",
    "print(\"Median %f\" % np.median(count_values))\n",
    "print(\"Variance %f\" % np.var(count_values))"
   ]
  },
  {
   "cell_type": "code",
   "execution_count": 431,
   "metadata": {},
   "outputs": [],
   "source": [
    "count_series = pd.Series(count_values, index=count_keys)\n",
    "value_count_series = count_series.value_counts() * count_series.value_counts().index"
   ]
  },
  {
   "cell_type": "code",
   "execution_count": 430,
   "metadata": {},
   "outputs": [
    {
     "data": {
      "image/png": "[encoded data removed]",
      "text/plain": [
       "<matplotlib.figure.Figure at 0x122969a58>"
      ]
     },
     "metadata": {},
     "output_type": "display_data"
    }
   ],
   "source": [
    "percent_series = (value_count_series / sum(value_count_series))\n",
    "plt.cla()\n",
    "percent_series[:15].sort_values(ascending=False).plot.bar(**{\"title\":\"% of keywords made up by keywords seen X times\"})\n",
    "plt.show()"
   ]
  },
  {
   "cell_type": "code",
   "execution_count": 433,
   "metadata": {},
   "outputs": [
    {
     "name": "stdout",
     "output_type": "stream",
     "text": [
      "This is the integral of the previous plot.\n"
     ]
    },
    {
     "data": {
      "image/png": "[encoded data removed]",
      "text/plain": [
       "<matplotlib.figure.Figure at 0x1228b99b0>"
      ]
     },
     "metadata": {},
     "output_type": "display_data"
    }
   ],
   "source": [
    "cumulative_series = percent_series.cumsum()\n",
    "print(\"This is the integral of the previous plot.\")\n",
    "plt.cla()\n",
    "cumulative_series[:15].plot.bar(**{\"title\": \"% of keywords made up by keywords seen X times or less\"})\n",
    "plt.show()"
   ]
  },
  {
   "cell_type": "markdown",
   "metadata": {},
   "source": [
    "# AI is somewhat popular"
   ]
  },
  {
   "cell_type": "code",
   "execution_count": 435,
   "metadata": {},
   "outputs": [
    {
     "data": {
      "image/png": "[encoded data removed]",
      "text/plain": [
       "<matplotlib.figure.Figure at 0x1227abef0>"
      ]
     },
     "metadata": {},
     "output_type": "display_data"
    },
    {
     "name": "stdout",
     "output_type": "stream",
     "text": [
      "\n",
      "cleantech, the most popular keyword, only account for 1.5% of the keywords.\n"
     ]
    }
   ],
   "source": [
    "sorted_count_series = count_series.sort_values(ascending=False)\n",
    "sorted_percent_series = sorted_count_series / sum(count_series)\n",
    "\n",
    "sorted_percent_series.index = sorted_percent_series.index.map(lambda x: x[:10])\n",
    "sorted_plus_ai = sorted_percent_series.copy()[:17].append(pd.DataFrame({0: 0.00145}, index=[\"ai\"]))\n",
    "plot_dict = {\n",
    "    \"title\":\"Volume of keywords that common terms are responsible for.\",\n",
    "    \"figsize\": (7, 6),\n",
    "    \"xticks\": [0, .015],\n",
    "    \"legend\": False\n",
    "}\n",
    "sorted_plus_ai[::-1].plot.barh(**plot_dict)\n",
    "\n",
    "plt.xlabel(\"% Keywords the term is responsible for.\")\n",
    "plt.show()\n",
    "\n",
    "print(\"\\ncleantech, the most popular keyword, only account for 1.5% of the keywords.\")"
   ]
  },
  {
   "cell_type": "code",
   "execution_count": 436,
   "metadata": {},
   "outputs": [
    {
     "data": {
      "image/png": "[encoded data removed]",
      "text/plain": [
       "<matplotlib.figure.Figure at 0x12273ca58>"
      ]
     },
     "metadata": {},
     "output_type": "display_data"
    }
   ],
   "source": [
    "sorted_percent_series.cumsum()[:200].plot(use_index=False, **{\"title\":\"% all keywords the X most common are responsible for\"})\n",
    "plt.show()"
   ]
  },
  {
   "cell_type": "code",
   "execution_count": 415,
   "metadata": {},
   "outputs": [
    {
     "name": "stdout",
     "output_type": "stream",
     "text": [
      "ai is the 62th most common keyword, in the 0.993052 percentile of keyword occurrence\n",
      "ai is 0.103215 as common as the most likely keyword\n"
     ]
    }
   ],
   "source": [
    "for ix, (keyword, percent) in enumerate(sorted_percent_series.iteritems()):\n",
    "    if keyword == \"ai\":\n",
    "        ai_ranking = ix + 1\n",
    "        ai_percentage = percent\n",
    "        break\n",
    "ai_percentile = (len(keywords) - sorted_count_series.iloc[ix]) / float(len(keywords))\n",
    "print(\"ai is the %dth most common keyword, in the %f percentile of keyword occurrence\" % (ai_ranking, ai_percentile))\n",
    "print(\"ai is %f as common as the most likely keyword\" % (ai_percentage / sorted_percent_series.iloc[0]))"
   ]
  },
  {
   "cell_type": "code",
   "execution_count": 416,
   "metadata": {},
   "outputs": [
    {
     "name": "stdout",
     "output_type": "stream",
     "text": [
      "183\n"
     ]
    }
   ],
   "source": [
    "print(count_series[\"ai\"])"
   ]
  },
  {
   "cell_type": "markdown",
   "metadata": {},
   "source": [
    "# AI-related keywords\n",
    "Unfortunately, it seems like there is not a consistent methodology for determining keywords and there are difference derivations of the same keyword.\n",
    "\n",
    "Example:\n",
    "\n",
    "artificial intel\\*, artificial intellig\\*, artificial intelligen\\*, artificial intelligenc\\*, artificial intelligence\\*, artificial intelligence\n",
    "\n",
    "machine learn, machine learn\\*, machine learning, machine learning\\*, machine\\* learn\\*, machine\\* learning\\*"
   ]
  },
  {
   "cell_type": "code",
   "execution_count": 417,
   "metadata": {},
   "outputs": [
    {
     "name": "stdout",
     "output_type": "stream",
     "text": [
      "Unique Keywords: 26340\n"
     ]
    }
   ],
   "source": [
    "print(\"Unique Keywords: %d\" % len(keywords))"
   ]
  },
  {
   "cell_type": "markdown",
   "metadata": {},
   "source": [
    "I found all keywords that are substrings of AI-related words. Many of the terms did end up being useful, and are now in \"words_not_used\". See how this usefullness was determined in \"Keyword Cleaning\" section."
   ]
  },
  {
   "cell_type": "code",
   "execution_count": 418,
   "metadata": {},
   "outputs": [],
   "source": [
    "ai_words = [\"ai\", \"agi\", \"artificial intelligence\", \"artificial intel*\",\n",
    "            \"artificial intellig*\", \"artificial intelligen*\", \"artificial intelligenc*\", \"artificial intelligence*\"]\n",
    "ml_words = [\"ml\", \"machine learn\", \"machine learn*\", \"machine learning\",\n",
    "            \"machine learning*\", \"machine* learn*\", \"machine* learning*\"]\n",
    "cv_words = [\"computer vision\", \"computer vision*\", \"computer* vision*\"]\n",
    "\n",
    "words_not_used = ([\n",
    "    \"neural networks\", \"deep learning\", \"reinforcement learning\", # hot topics\n",
    "    \"statistics\", \"inference\", \"prediction\", # statistical learning\n",
    "    \"convex\", \"optimization\", \"convex optimization\", # optimization / control\n",
    "    \"probabilistic\", \"probabilistic programming\", \"graphical models\" # bayesian\n",
    "    \"expert system\",\n",
    "    \"data mining\", \"bi\", \"business intelligence\"\n",
    "])"
   ]
  },
  {
   "cell_type": "markdown",
   "metadata": {},
   "source": [
    "# Entity IDs"
   ]
  },
  {
   "cell_type": "code",
   "execution_count": 419,
   "metadata": {},
   "outputs": [],
   "source": [
    "words = ai_words + ml_words + cv_words"
   ]
  },
  {
   "cell_type": "code",
   "execution_count": 420,
   "metadata": {},
   "outputs": [],
   "source": [
    "entity_ids = set()\n",
    "for word in words:\n",
    "    indices = keyword_to_ix[word]\n",
    "    for ix in indices:\n",
    "        entity_ids.add(df.loc[ix][\"EntityID\"])"
   ]
  },
  {
   "cell_type": "code",
   "execution_count": 421,
   "metadata": {},
   "outputs": [
    {
     "data": {
      "text/plain": [
       "321"
      ]
     },
     "execution_count": 421,
     "metadata": {},
     "output_type": "execute_result"
    }
   ],
   "source": [
    "entity_id_list = sorted(list(entity_ids))\n",
    "len(entity_id_list)"
   ]
  },
  {
   "cell_type": "code",
   "execution_count": 424,
   "metadata": {},
   "outputs": [],
   "source": [
    "with open(os.path.join(os.getcwd(), \"AI_Entity_ID.csv\"), \"w\") as f:\n",
    "    f.write(\"EntityID\\n\")\n",
    "    for e in entity_id_list:\n",
    "        f.write(\"%d\\n\" % e)"
   ]
  },
  {
   "cell_type": "markdown",
   "metadata": {},
   "source": [
    "# Keyword Cleaning"
   ]
  },
  {
   "cell_type": "markdown",
   "metadata": {},
   "source": [
    "This section was used to identify keywords similar to:\n",
    "\"ai\", \"artificial intellgience\", \"machine learing\", \"computer vision\".\n",
    "\n",
    "I also used the code here to detemine that other AI-related keywords were too sparse / not useful."
   ]
  },
  {
   "cell_type": "code",
   "execution_count": 350,
   "metadata": {},
   "outputs": [],
   "source": [
    "words = ai_words + ml_words + cv_words\n",
    "\n",
    "# Returns a set of keywords that are substrings of input keywords\n",
    "def get_keyword_substrings(words):\n",
    "    substrings = set()\n",
    "    for w in words:\n",
    "        for k in keywords:\n",
    "            if k.replace(\"*\", \"\") in w or w in k.replace(\"*\", \"\") in w:\n",
    "                substrings.add(k)\n",
    "    return substrings"
   ]
  },
  {
   "cell_type": "markdown",
   "metadata": {},
   "source": [
    "Many of the substrings were useless. I cleaned them up."
   ]
  },
  {
   "cell_type": "code",
   "execution_count": 374,
   "metadata": {},
   "outputs": [],
   "source": [
    "substrings = get_keyword_substrings(words)\n",
    "useless_substrings = [\n",
    "    \"art*\", \"gen*\", \"art\", \"ar\", \"gi\", \"ag*\", \"ar*\",\n",
    "    \"artificial*\", \"artificial\",\n",
    "    \"intel*\", \"intellig*\", \"intellige*\", \"intelligen*\",\n",
    "    \"intelligence*\", \"*intelligence\", \"intelligence\", \"intelli*\",\n",
    "    \"mac\", \"mac*\", \"machin*\", \"ach\", \"machine\", \"machine*\",\n",
    "    \"*learn*\", \"learn*\", \"learning\", \"learning*\", \"*learning\", \"*learning*\", \"learn\",\n",
    "    \"comput*\", \"compute*\", \"computer*\", \"computer\", \"*comput*\", \"*comp*\", \"*computer*\",\n",
    "    \"vision\", \"vision*\", \"vis*\", \"ion\", \"si\", \"io\", \"*vision*\", \"*vision\",\n",
    "    \"chin*\", \"*\", \"ic\", \"ic*\", \"*ic*\", \"ear*\", \"ce\",\n",
    "    \"ear\", \"earn*\", \"er\", \"ac\", \"uter*\", \"ion*\", \"mp\",\n",
    "    \"tell*\", \"nce\", \"com\", \"ell\", \"*gen*\", \"ne\",\n",
    "    \"ti\", \"ci*\", \"compute\", \"earning*\", \"ach*\", \"visi*\", \"gi*\", \"nce*\", \"co\", \"fi\", \"*machine*\",\n",
    "    \"*art*\", \"*ic\", \"comp*\", \"*intelligen*\", \"*machin*\", \"*intelligence*\", \"*ag*\", \"nt\", \"intell*\",\n",
    "    \"*intelli*\", \"is\", \"r\"\n",
    "]\n",
    "\n",
    "for sub in useless_substrings:\n",
    "    substrings.remove(sub)\n",
    "\n",
    "substrings = list(substrings)"
   ]
  },
  {
   "cell_type": "markdown",
   "metadata": {},
   "source": [
    "Display the # occurences of the remaining keywords in sorted order."
   ]
  },
  {
   "cell_type": "code",
   "execution_count": 375,
   "metadata": {},
   "outputs": [
    {
     "data": {
      "text/plain": [
       "ai                          183\n",
       "machine learn*               59\n",
       "artificial intelligence      59\n",
       "machine learning             57\n",
       "ai*                          26\n",
       "computer vision              13\n",
       "artificial intelligen*        8\n",
       "computer vision*              6\n",
       "machine learning*             4\n",
       "artificial intelligence*      4\n",
       "artificial intelligenc*       3\n",
       "ml                            3\n",
       "machine* learn*               2\n",
       "machine* learning*            1\n",
       "computer* vision*             1\n",
       "machine learn                 1\n",
       "artificial intellig*          1\n",
       "artificial intel*             1\n",
       "agi                           1\n",
       "dtype: int64"
      ]
     },
     "execution_count": 375,
     "metadata": {},
     "output_type": "execute_result"
    }
   ],
   "source": [
    "top_ten = count_series[set(words + substrings)].sort_values(ascending=False)\n",
    "top_ten"
   ]
  },
  {
   "cell_type": "markdown",
   "metadata": {},
   "source": [
    "Sanity check that the labelers are not accidentally writing one keyword as two (\"artificial intellgience\" as \"artificial\", \"intelligence\")"
   ]
  },
  {
   "cell_type": "code",
   "execution_count": 388,
   "metadata": {},
   "outputs": [
    {
     "data": {
      "text/html": [
       "<div>\n",
       "<style>\n",
       "    .dataframe thead tr:only-child th {\n",
       "        text-align: right;\n",
       "    }\n",
       "\n",
       "    .dataframe thead th {\n",
       "        text-align: left;\n",
       "    }\n",
       "\n",
       "    .dataframe tbody tr th {\n",
       "        vertical-align: top;\n",
       "    }\n",
       "</style>\n",
       "<table border=\"1\" class=\"dataframe\">\n",
       "  <thead>\n",
       "    <tr style=\"text-align: right;\">\n",
       "      <th></th>\n",
       "      <th>EntityID</th>\n",
       "      <th>Keywords</th>\n",
       "      <th>FullDesc</th>\n",
       "      <th>KeywordItems</th>\n",
       "    </tr>\n",
       "  </thead>\n",
       "  <tbody>\n",
       "  </tbody>\n",
       "</table>\n",
       "</div>"
      ],
      "text/plain": [
       "Empty DataFrame\n",
       "Columns: [EntityID, Keywords, FullDesc, KeywordItems]\n",
       "Index: []"
      ]
     },
     "execution_count": 388,
     "metadata": {},
     "output_type": "execute_result"
    }
   ],
   "source": [
    "df[df[\"KeywordItems\"].apply(lambda x: \"artificial\" in x and \"intellgience\" in x) == True]"
   ]
  }
 ],
 "metadata": {
  "kernelspec": {
   "display_name": "Python [conda root]",
   "language": "python",
   "name": "conda-root-py"
  },
  "language_info": {
   "codemirror_mode": {
    "name": "ipython",
    "version": 3
   },
   "file_extension": ".py",
   "mimetype": "text/x-python",
   "name": "python",
   "nbconvert_exporter": "python",
   "pygments_lexer": "ipython3",
   "version": "3.5.3"
  }
 },
 "nbformat": 4,
 "nbformat_minor": 2
}
